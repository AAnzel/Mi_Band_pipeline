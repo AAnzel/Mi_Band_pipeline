{
 "cells": [
  {
   "cell_type": "code",
   "execution_count": 1,
   "metadata": {},
   "outputs": [],
   "source": [
    "import pandas as pd\n",
    "import numpy as np\n",
    "import altair as alt\n",
    "import os\n",
    "from datetime import datetime as dt\n",
    "from datetime import timedelta as td\n",
    "\n",
    "# If jedi can't find force\n",
    "#%config Completer.use_jedi = False\n"
   ]
  },
  {
   "cell_type": "markdown",
   "metadata": {},
   "source": [
    "# Step 1: Data import"
   ]
  },
  {
   "cell_type": "code",
   "execution_count": 2,
   "metadata": {},
   "outputs": [],
   "source": [
    "base_dir_path = os.path.join('..', 'MiFit_data')\n",
    "\n",
    "heart_rate_path = os.path.join (base_dir_path, 'HEARTRATE_AUTO', 'HEARTRATE_AUTO_1609608373273.csv')\n",
    "sleep_path = os.path.join (base_dir_path, 'SLEEP', 'SLEEP_1609608372781.csv')\n",
    "sport_path = os.path.join (base_dir_path, 'SPORT', 'SPORT_1609608373447.csv')\n",
    "activity_path = os.path.join (base_dir_path, 'ACTIVITY', 'ACTIVITY_1609608371719.csv')\n",
    "activity_minute_path = os.path.join (base_dir_path, 'ACTIVITY_MINUTE', 'ACTIVITY_MINUTE_1609608372267.csv')\n",
    "\n",
    "# TODO, FEATURE: Use user input for base_dir (and traverse directories) instead of hard-coding.\n"
   ]
  },
  {
   "cell_type": "markdown",
   "metadata": {},
   "source": [
    "# Step 2: Data examination and processing"
   ]
  },
  {
   "cell_type": "code",
   "execution_count": 3,
   "metadata": {},
   "outputs": [],
   "source": [
    "try:\n",
    "    heart_rate_df = pd.read_csv (heart_rate_path)\n",
    "    sleep_df = pd.read_csv (sleep_path)\n",
    "    sport_df = pd.read_csv (sport_path)\n",
    "    activity_df = pd.read_csv (activity_path)\n",
    "    activity_minute_df = pd.read_csv (activity_minute_path)\n",
    "    \n",
    "except Exception as e:\n",
    "    # TODO: Better exception handling\n",
    "    print (e, '\\n')\n",
    "    raise\n"
   ]
  },
  {
   "cell_type": "markdown",
   "metadata": {},
   "source": [
    "### Heart rate"
   ]
  },
  {
   "cell_type": "code",
   "execution_count": null,
   "metadata": {},
   "outputs": [],
   "source": [
    "heart_rate_df['date'] = pd.to_datetime (heart_rate_df['date'])\n",
    "heart_rate_df\n"
   ]
  },
  {
   "cell_type": "code",
   "execution_count": 5,
   "metadata": {},
   "outputs": [],
   "source": [
    "# Droping rows that are outside of year 2020.\n",
    "start_date = pd.to_datetime('1/1/2020 00:00')\n",
    "end_date = pd.to_datetime('12/31/2020 23:59')"
   ]
  },
  {
   "cell_type": "code",
   "execution_count": null,
   "metadata": {},
   "outputs": [],
   "source": [
    "heart_rate_df = heart_rate_df[heart_rate_df.date.between(start_date, end_date)]\n",
    "heart_rate_df"
   ]
  },
  {
   "cell_type": "code",
   "execution_count": 7,
   "metadata": {},
   "outputs": [
    {
     "data": {
      "text/html": [
       "<div>\n",
       "<style scoped>\n",
       "    .dataframe tbody tr th:only-of-type {\n",
       "        vertical-align: middle;\n",
       "    }\n",
       "\n",
       "    .dataframe tbody tr th {\n",
       "        vertical-align: top;\n",
       "    }\n",
       "\n",
       "    .dataframe thead th {\n",
       "        text-align: right;\n",
       "    }\n",
       "</style>\n",
       "<table border=\"1\" class=\"dataframe\">\n",
       "  <thead>\n",
       "    <tr style=\"text-align: right;\">\n",
       "      <th></th>\n",
       "      <th>date</th>\n",
       "      <th>time</th>\n",
       "      <th>heartRate</th>\n",
       "    </tr>\n",
       "  </thead>\n",
       "  <tbody>\n",
       "    <tr>\n",
       "      <th>0</th>\n",
       "      <td>2020-01-03</td>\n",
       "      <td>00:00</td>\n",
       "      <td>61</td>\n",
       "    </tr>\n",
       "    <tr>\n",
       "      <th>1</th>\n",
       "      <td>2020-01-03</td>\n",
       "      <td>00:02</td>\n",
       "      <td>71</td>\n",
       "    </tr>\n",
       "    <tr>\n",
       "      <th>2</th>\n",
       "      <td>2020-01-03</td>\n",
       "      <td>00:04</td>\n",
       "      <td>61</td>\n",
       "    </tr>\n",
       "  </tbody>\n",
       "</table>\n",
       "</div>"
      ],
      "text/plain": [
       "        date   time  heartRate\n",
       "0 2020-01-03  00:00         61\n",
       "1 2020-01-03  00:02         71\n",
       "2 2020-01-03  00:04         61"
      ]
     },
     "execution_count": 7,
     "metadata": {},
     "output_type": "execute_result"
    }
   ],
   "source": [
    "heart_rate_df.head(3)"
   ]
  },
  {
   "cell_type": "markdown",
   "metadata": {},
   "source": [
    "### Sleep"
   ]
  },
  {
   "cell_type": "code",
   "execution_count": null,
   "metadata": {},
   "outputs": [],
   "source": [
    "sleep_df['date'] = pd.to_datetime (sleep_df['date'])\n",
    "sleep_df\n",
    "\n",
    "# wakeTime = number of waking-ups during sleep\n",
    "# start = start of sleep in Unix time"
   ]
  },
  {
   "cell_type": "code",
   "execution_count": 9,
   "metadata": {},
   "outputs": [],
   "source": [
    "new_i = []\n",
    "new_j = []\n",
    "new_k = []\n",
    "\n",
    "for i, row in sleep_df.iterrows():\n",
    "    new_i.append(dt.fromtimestamp (row['lastSyncTime']))\n",
    "    new_j.append(dt.fromtimestamp (row['start']))\n",
    "    new_k.append(dt.fromtimestamp (row['stop']))\n",
    "\n",
    "sleep_df['lastSyncTime_new'] = pd.to_datetime(pd.Series(new_i))\n",
    "sleep_df['start_new'] = pd.to_datetime(pd.Series(new_j))\n",
    "sleep_df['stop_new'] = pd.to_datetime(pd.Series(new_k))\n"
   ]
  },
  {
   "cell_type": "code",
   "execution_count": null,
   "metadata": {},
   "outputs": [],
   "source": [
    "sleep_df"
   ]
  },
  {
   "cell_type": "code",
   "execution_count": null,
   "metadata": {},
   "outputs": [],
   "source": [
    "sleep_df = sleep_df[sleep_df.date.between(start_date, end_date)]\n",
    "sleep_df"
   ]
  },
  {
   "cell_type": "code",
   "execution_count": 12,
   "metadata": {},
   "outputs": [
    {
     "data": {
      "text/html": [
       "<div>\n",
       "<style scoped>\n",
       "    .dataframe tbody tr th:only-of-type {\n",
       "        vertical-align: middle;\n",
       "    }\n",
       "\n",
       "    .dataframe tbody tr th {\n",
       "        vertical-align: top;\n",
       "    }\n",
       "\n",
       "    .dataframe thead th {\n",
       "        text-align: right;\n",
       "    }\n",
       "</style>\n",
       "<table border=\"1\" class=\"dataframe\">\n",
       "  <thead>\n",
       "    <tr style=\"text-align: right;\">\n",
       "      <th></th>\n",
       "      <th>date</th>\n",
       "      <th>lastSyncTime</th>\n",
       "      <th>deepSleepTime</th>\n",
       "      <th>shallowSleepTime</th>\n",
       "      <th>wakeTime</th>\n",
       "      <th>start</th>\n",
       "      <th>stop</th>\n",
       "      <th>lastSyncTime_new</th>\n",
       "      <th>start_new</th>\n",
       "      <th>stop_new</th>\n",
       "    </tr>\n",
       "  </thead>\n",
       "  <tbody>\n",
       "    <tr>\n",
       "      <th>61</th>\n",
       "      <td>2020-01-01</td>\n",
       "      <td>1577948986</td>\n",
       "      <td>169</td>\n",
       "      <td>177</td>\n",
       "      <td>0</td>\n",
       "      <td>1577836440</td>\n",
       "      <td>1577857200</td>\n",
       "      <td>2020-01-02 08:09:46</td>\n",
       "      <td>2020-01-01 00:54:00</td>\n",
       "      <td>2020-01-01 06:40:00</td>\n",
       "    </tr>\n",
       "    <tr>\n",
       "      <th>62</th>\n",
       "      <td>2020-01-02</td>\n",
       "      <td>1578037754</td>\n",
       "      <td>201</td>\n",
       "      <td>313</td>\n",
       "      <td>0</td>\n",
       "      <td>1577916540</td>\n",
       "      <td>1577947380</td>\n",
       "      <td>2020-01-03 08:49:14</td>\n",
       "      <td>2020-01-01 23:09:00</td>\n",
       "      <td>2020-01-02 07:43:00</td>\n",
       "    </tr>\n",
       "    <tr>\n",
       "      <th>63</th>\n",
       "      <td>2020-01-03</td>\n",
       "      <td>1578123391</td>\n",
       "      <td>146</td>\n",
       "      <td>479</td>\n",
       "      <td>63</td>\n",
       "      <td>1578004620</td>\n",
       "      <td>1578045900</td>\n",
       "      <td>2020-01-04 08:36:31</td>\n",
       "      <td>2020-01-02 23:37:00</td>\n",
       "      <td>2020-01-03 11:05:00</td>\n",
       "    </tr>\n",
       "  </tbody>\n",
       "</table>\n",
       "</div>"
      ],
      "text/plain": [
       "         date  lastSyncTime  deepSleepTime  shallowSleepTime  wakeTime  \\\n",
       "61 2020-01-01    1577948986            169               177         0   \n",
       "62 2020-01-02    1578037754            201               313         0   \n",
       "63 2020-01-03    1578123391            146               479        63   \n",
       "\n",
       "         start        stop    lastSyncTime_new           start_new  \\\n",
       "61  1577836440  1577857200 2020-01-02 08:09:46 2020-01-01 00:54:00   \n",
       "62  1577916540  1577947380 2020-01-03 08:49:14 2020-01-01 23:09:00   \n",
       "63  1578004620  1578045900 2020-01-04 08:36:31 2020-01-02 23:37:00   \n",
       "\n",
       "              stop_new  \n",
       "61 2020-01-01 06:40:00  \n",
       "62 2020-01-02 07:43:00  \n",
       "63 2020-01-03 11:05:00  "
      ]
     },
     "execution_count": 12,
     "metadata": {},
     "output_type": "execute_result"
    }
   ],
   "source": [
    "sleep_df.head(3)"
   ]
  },
  {
   "cell_type": "markdown",
   "metadata": {},
   "source": [
    "### Sport"
   ]
  },
  {
   "cell_type": "code",
   "execution_count": 13,
   "metadata": {},
   "outputs": [],
   "source": [
    "new_i = []\n",
    "new_j = []\n",
    "new_k = []\n",
    "\n",
    "for i, row in sport_df.iterrows():\n",
    "    new_i.append(dt.fromtimestamp (row['startTime']))\n",
    "    new_j.append(td (seconds = row['sportTime']))\n",
    "    new_k.append(dt.fromtimestamp (row['startTime'] + row['sportTime']))\n",
    "\n",
    "sport_df['startTime_new'] = pd.to_datetime(pd.Series(new_i))\n",
    "sport_df['sportTime_new'] = pd.Series(new_j)\n",
    "sport_df['endTime_new'] = pd.to_datetime(pd.Series(new_k))\n",
    "\n",
    "# type 16 = freestyle, 6 = running/walking"
   ]
  },
  {
   "cell_type": "code",
   "execution_count": null,
   "metadata": {},
   "outputs": [],
   "source": [
    "sport_df"
   ]
  },
  {
   "cell_type": "code",
   "execution_count": null,
   "metadata": {},
   "outputs": [],
   "source": [
    "sport_df = sport_df[sport_df.startTime_new.between(start_date, end_date)]\n",
    "sport_df"
   ]
  },
  {
   "cell_type": "code",
   "execution_count": 16,
   "metadata": {},
   "outputs": [
    {
     "data": {
      "text/html": [
       "<div>\n",
       "<style scoped>\n",
       "    .dataframe tbody tr th:only-of-type {\n",
       "        vertical-align: middle;\n",
       "    }\n",
       "\n",
       "    .dataframe tbody tr th {\n",
       "        vertical-align: top;\n",
       "    }\n",
       "\n",
       "    .dataframe thead th {\n",
       "        text-align: right;\n",
       "    }\n",
       "</style>\n",
       "<table border=\"1\" class=\"dataframe\">\n",
       "  <thead>\n",
       "    <tr style=\"text-align: right;\">\n",
       "      <th></th>\n",
       "      <th>type</th>\n",
       "      <th>startTime</th>\n",
       "      <th>sportTime</th>\n",
       "      <th>distance</th>\n",
       "      <th>maxPace</th>\n",
       "      <th>minPace</th>\n",
       "      <th>avgPace</th>\n",
       "      <th>calories</th>\n",
       "      <th>startTime_new</th>\n",
       "      <th>sportTime_new</th>\n",
       "      <th>endTime_new</th>\n",
       "    </tr>\n",
       "  </thead>\n",
       "  <tbody>\n",
       "    <tr>\n",
       "      <th>0</th>\n",
       "      <td>16</td>\n",
       "      <td>1609422578</td>\n",
       "      <td>2924</td>\n",
       "      <td>0.0</td>\n",
       "      <td>1.8</td>\n",
       "      <td>0.0</td>\n",
       "      <td>0.0</td>\n",
       "      <td>217.0</td>\n",
       "      <td>2020-12-31 14:49:38</td>\n",
       "      <td>0 days 00:48:44</td>\n",
       "      <td>2020-12-31 15:38:22</td>\n",
       "    </tr>\n",
       "    <tr>\n",
       "      <th>1</th>\n",
       "      <td>16</td>\n",
       "      <td>1609249931</td>\n",
       "      <td>3118</td>\n",
       "      <td>0.0</td>\n",
       "      <td>1.8</td>\n",
       "      <td>0.0</td>\n",
       "      <td>0.0</td>\n",
       "      <td>208.0</td>\n",
       "      <td>2020-12-29 14:52:11</td>\n",
       "      <td>0 days 00:51:58</td>\n",
       "      <td>2020-12-29 15:44:09</td>\n",
       "    </tr>\n",
       "    <tr>\n",
       "      <th>2</th>\n",
       "      <td>16</td>\n",
       "      <td>1609249859</td>\n",
       "      <td>64</td>\n",
       "      <td>0.0</td>\n",
       "      <td>1.8</td>\n",
       "      <td>0.0</td>\n",
       "      <td>0.0</td>\n",
       "      <td>2.0</td>\n",
       "      <td>2020-12-29 14:50:59</td>\n",
       "      <td>0 days 00:01:04</td>\n",
       "      <td>2020-12-29 14:52:03</td>\n",
       "    </tr>\n",
       "  </tbody>\n",
       "</table>\n",
       "</div>"
      ],
      "text/plain": [
       "   type   startTime  sportTime  distance  maxPace  minPace  avgPace  calories  \\\n",
       "0    16  1609422578       2924       0.0      1.8      0.0      0.0     217.0   \n",
       "1    16  1609249931       3118       0.0      1.8      0.0      0.0     208.0   \n",
       "2    16  1609249859         64       0.0      1.8      0.0      0.0       2.0   \n",
       "\n",
       "        startTime_new   sportTime_new         endTime_new  \n",
       "0 2020-12-31 14:49:38 0 days 00:48:44 2020-12-31 15:38:22  \n",
       "1 2020-12-29 14:52:11 0 days 00:51:58 2020-12-29 15:44:09  \n",
       "2 2020-12-29 14:50:59 0 days 00:01:04 2020-12-29 14:52:03  "
      ]
     },
     "execution_count": 16,
     "metadata": {},
     "output_type": "execute_result"
    }
   ],
   "source": [
    "sport_df.head(3)"
   ]
  },
  {
   "cell_type": "markdown",
   "metadata": {},
   "source": [
    "### Activity"
   ]
  },
  {
   "cell_type": "code",
   "execution_count": 17,
   "metadata": {},
   "outputs": [],
   "source": [
    "new_i = []\n",
    "\n",
    "for i, row in activity_df.iterrows():\n",
    "    new_i.append(dt.fromtimestamp (row['lastSyncTime']))\n",
    "\n",
    "activity_df['lastSyncTime_new'] = pd.to_datetime(pd.Series(new_i))\n",
    "activity_df['date'] = pd.to_datetime (activity_df['date'])"
   ]
  },
  {
   "cell_type": "code",
   "execution_count": null,
   "metadata": {},
   "outputs": [],
   "source": [
    "activity_df"
   ]
  },
  {
   "cell_type": "code",
   "execution_count": null,
   "metadata": {},
   "outputs": [],
   "source": [
    "activity_df = activity_df[activity_df.date.between(start_date, end_date)]\n",
    "activity_df"
   ]
  },
  {
   "cell_type": "code",
   "execution_count": 20,
   "metadata": {},
   "outputs": [
    {
     "data": {
      "text/html": [
       "<div>\n",
       "<style scoped>\n",
       "    .dataframe tbody tr th:only-of-type {\n",
       "        vertical-align: middle;\n",
       "    }\n",
       "\n",
       "    .dataframe tbody tr th {\n",
       "        vertical-align: top;\n",
       "    }\n",
       "\n",
       "    .dataframe thead th {\n",
       "        text-align: right;\n",
       "    }\n",
       "</style>\n",
       "<table border=\"1\" class=\"dataframe\">\n",
       "  <thead>\n",
       "    <tr style=\"text-align: right;\">\n",
       "      <th></th>\n",
       "      <th>date</th>\n",
       "      <th>lastSyncTime</th>\n",
       "      <th>steps</th>\n",
       "      <th>distance</th>\n",
       "      <th>runDistance</th>\n",
       "      <th>calories</th>\n",
       "      <th>lastSyncTime_new</th>\n",
       "    </tr>\n",
       "  </thead>\n",
       "  <tbody>\n",
       "    <tr>\n",
       "      <th>61</th>\n",
       "      <td>2020-01-01</td>\n",
       "      <td>1577948986</td>\n",
       "      <td>5153</td>\n",
       "      <td>3619</td>\n",
       "      <td>280</td>\n",
       "      <td>129</td>\n",
       "      <td>2020-01-02 08:09:46</td>\n",
       "    </tr>\n",
       "    <tr>\n",
       "      <th>62</th>\n",
       "      <td>2020-01-02</td>\n",
       "      <td>1578037754</td>\n",
       "      <td>601</td>\n",
       "      <td>409</td>\n",
       "      <td>154</td>\n",
       "      <td>22</td>\n",
       "      <td>2020-01-03 08:49:14</td>\n",
       "    </tr>\n",
       "    <tr>\n",
       "      <th>63</th>\n",
       "      <td>2020-01-03</td>\n",
       "      <td>1578123391</td>\n",
       "      <td>1084</td>\n",
       "      <td>738</td>\n",
       "      <td>116</td>\n",
       "      <td>29</td>\n",
       "      <td>2020-01-04 08:36:31</td>\n",
       "    </tr>\n",
       "  </tbody>\n",
       "</table>\n",
       "</div>"
      ],
      "text/plain": [
       "         date  lastSyncTime  steps  distance  runDistance  calories  \\\n",
       "61 2020-01-01    1577948986   5153      3619          280       129   \n",
       "62 2020-01-02    1578037754    601       409          154        22   \n",
       "63 2020-01-03    1578123391   1084       738          116        29   \n",
       "\n",
       "      lastSyncTime_new  \n",
       "61 2020-01-02 08:09:46  \n",
       "62 2020-01-03 08:49:14  \n",
       "63 2020-01-04 08:36:31  "
      ]
     },
     "execution_count": 20,
     "metadata": {},
     "output_type": "execute_result"
    }
   ],
   "source": [
    "activity_df.head(3)"
   ]
  },
  {
   "cell_type": "markdown",
   "metadata": {},
   "source": [
    "### Activity minute"
   ]
  },
  {
   "cell_type": "code",
   "execution_count": null,
   "metadata": {},
   "outputs": [],
   "source": [
    "activity_minute_df['date'] = pd.to_datetime (activity_minute_df['date'])\n",
    "activity_minute_df"
   ]
  },
  {
   "cell_type": "code",
   "execution_count": null,
   "metadata": {},
   "outputs": [],
   "source": [
    "activity_minute_df = activity_minute_df[activity_minute_df.date.between(start_date, end_date)]\n",
    "activity_minute_df"
   ]
  },
  {
   "cell_type": "code",
   "execution_count": 23,
   "metadata": {},
   "outputs": [
    {
     "data": {
      "text/html": [
       "<div>\n",
       "<style scoped>\n",
       "    .dataframe tbody tr th:only-of-type {\n",
       "        vertical-align: middle;\n",
       "    }\n",
       "\n",
       "    .dataframe tbody tr th {\n",
       "        vertical-align: top;\n",
       "    }\n",
       "\n",
       "    .dataframe thead th {\n",
       "        text-align: right;\n",
       "    }\n",
       "</style>\n",
       "<table border=\"1\" class=\"dataframe\">\n",
       "  <thead>\n",
       "    <tr style=\"text-align: right;\">\n",
       "      <th></th>\n",
       "      <th>date</th>\n",
       "      <th>time</th>\n",
       "      <th>steps</th>\n",
       "    </tr>\n",
       "  </thead>\n",
       "  <tbody>\n",
       "    <tr>\n",
       "      <th>0</th>\n",
       "      <td>2020-01-03</td>\n",
       "      <td>03:49</td>\n",
       "      <td>10</td>\n",
       "    </tr>\n",
       "    <tr>\n",
       "      <th>1</th>\n",
       "      <td>2020-01-03</td>\n",
       "      <td>09:44</td>\n",
       "      <td>28</td>\n",
       "    </tr>\n",
       "    <tr>\n",
       "      <th>2</th>\n",
       "      <td>2020-01-03</td>\n",
       "      <td>10:05</td>\n",
       "      <td>22</td>\n",
       "    </tr>\n",
       "  </tbody>\n",
       "</table>\n",
       "</div>"
      ],
      "text/plain": [
       "        date   time  steps\n",
       "0 2020-01-03  03:49     10\n",
       "1 2020-01-03  09:44     28\n",
       "2 2020-01-03  10:05     22"
      ]
     },
     "execution_count": 23,
     "metadata": {},
     "output_type": "execute_result"
    }
   ],
   "source": [
    "activity_minute_df.head(3)"
   ]
  },
  {
   "cell_type": "markdown",
   "metadata": {},
   "source": [
    "# Step 3: Data visualization"
   ]
  },
  {
   "cell_type": "markdown",
   "metadata": {},
   "source": [
    "### Heart rate"
   ]
  },
  {
   "cell_type": "code",
   "execution_count": null,
   "metadata": {},
   "outputs": [],
   "source": []
  },
  {
   "cell_type": "code",
   "execution_count": null,
   "metadata": {},
   "outputs": [],
   "source": []
  },
  {
   "cell_type": "markdown",
   "metadata": {},
   "source": [
    "### Sleep"
   ]
  },
  {
   "cell_type": "code",
   "execution_count": null,
   "metadata": {},
   "outputs": [],
   "source": []
  },
  {
   "cell_type": "code",
   "execution_count": null,
   "metadata": {},
   "outputs": [],
   "source": []
  },
  {
   "cell_type": "markdown",
   "metadata": {},
   "source": [
    "### Sport"
   ]
  },
  {
   "cell_type": "code",
   "execution_count": null,
   "metadata": {},
   "outputs": [],
   "source": []
  },
  {
   "cell_type": "code",
   "execution_count": null,
   "metadata": {},
   "outputs": [],
   "source": []
  },
  {
   "cell_type": "markdown",
   "metadata": {},
   "source": [
    "### Activity"
   ]
  },
  {
   "cell_type": "code",
   "execution_count": null,
   "metadata": {},
   "outputs": [],
   "source": []
  },
  {
   "cell_type": "code",
   "execution_count": null,
   "metadata": {},
   "outputs": [],
   "source": []
  },
  {
   "cell_type": "markdown",
   "metadata": {},
   "source": [
    "### Activity minute"
   ]
  },
  {
   "cell_type": "code",
   "execution_count": null,
   "metadata": {},
   "outputs": [],
   "source": []
  },
  {
   "cell_type": "code",
   "execution_count": null,
   "metadata": {},
   "outputs": [],
   "source": []
  },
  {
   "cell_type": "code",
   "execution_count": null,
   "metadata": {},
   "outputs": [],
   "source": []
  },
  {
   "cell_type": "markdown",
   "metadata": {},
   "source": [
    "## Step 3.1: Summary creation"
   ]
  },
  {
   "cell_type": "code",
   "execution_count": null,
   "metadata": {},
   "outputs": [],
   "source": []
  },
  {
   "cell_type": "code",
   "execution_count": null,
   "metadata": {},
   "outputs": [],
   "source": []
  }
 ],
 "metadata": {
  "kernelspec": {
   "display_name": "Python 3",
   "language": "python",
   "name": "python3"
  },
  "language_info": {
   "codemirror_mode": {
    "name": "ipython",
    "version": 3
   },
   "file_extension": ".py",
   "mimetype": "text/x-python",
   "name": "python",
   "nbconvert_exporter": "python",
   "pygments_lexer": "ipython3",
   "version": "3.8.5"
  }
 },
 "nbformat": 4,
 "nbformat_minor": 4
}
