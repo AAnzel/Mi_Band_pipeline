{
 "cells": [
  {
   "cell_type": "code",
   "execution_count": null,
   "metadata": {},
   "outputs": [],
   "source": [
    "import pandas as pd\n",
    "import numpy as np\n",
    "import altair as alt\n",
    "import os\n",
    "from datetime import datetime as dt\n",
    "from datetime import timedelta as td\n",
    "\n",
    "# If jedi can't find force\n",
    "%config Completer.use_jedi = False\n"
   ]
  },
  {
   "cell_type": "markdown",
   "metadata": {},
   "source": [
    "# Step 1: Data import"
   ]
  },
  {
   "cell_type": "code",
   "execution_count": null,
   "metadata": {},
   "outputs": [],
   "source": [
    "base_dir_path = os.path.join('..', 'MiFit_data')\n",
    "\n",
    "heart_rate_path = os.path.join (base_dir_path, 'HEARTRATE_AUTO', 'HEARTRATE_AUTO_1609608373273.csv')\n",
    "sleep_path = os.path.join (base_dir_path, 'SLEEP', 'SLEEP_1609608372781.csv')\n",
    "sport_path = os.path.join (base_dir_path, 'SPORT', 'SPORT_1609608373447.csv')\n",
    "activity_path = os.path.join (base_dir_path, 'ACTIVITY', 'ACTIVITY_1609608371719.csv')\n",
    "activity_minute_path = os.path.join (base_dir_path, 'ACTIVITY_MINUTE', 'ACTIVITY_MINUTE_1609608372267.csv')\n",
    "\n",
    "# TODO, FEATURE: Use user input for base_dir (and traverse directories) instead of hard-coding.\n"
   ]
  },
  {
   "cell_type": "markdown",
   "metadata": {},
   "source": [
    "# Step 2: Data examination and processing"
   ]
  },
  {
   "cell_type": "code",
   "execution_count": null,
   "metadata": {},
   "outputs": [],
   "source": [
    "try:\n",
    "    heart_rate_df = pd.read_csv (heart_rate_path)\n",
    "    sleep_df = pd.read_csv (sleep_path)\n",
    "    sport_df = pd.read_csv (sport_path)\n",
    "    activity_df = pd.read_csv (activity_path)\n",
    "    activity_minute_df = pd.read_csv (activity_minute_path)\n",
    "    \n",
    "except Exception as e:\n",
    "    # TODO: Better exception handling\n",
    "    print (e, '\\n')\n",
    "    raise\n"
   ]
  },
  {
   "cell_type": "code",
   "execution_count": null,
   "metadata": {},
   "outputs": [],
   "source": [
    "# Needed in order to drop rows that are outside of year 2020.\n",
    "start_date = pd.to_datetime('1/1/2020 00:00')\n",
    "end_date = pd.to_datetime('12/31/2020 23:59')"
   ]
  },
  {
   "cell_type": "markdown",
   "metadata": {},
   "source": [
    "### Heart rate"
   ]
  },
  {
   "cell_type": "code",
   "execution_count": null,
   "metadata": {},
   "outputs": [],
   "source": [
    "heart_rate_df['time'] = pd.to_datetime(heart_rate_df['date'] + ' ' + heart_rate_df['time'])#, format='%H:%M')\n",
    "heart_rate_df['date'] = pd.to_datetime (heart_rate_df['date'])\n",
    "# This has to be done this way to ensure that vega-lite correctly serialize time in ISO format\n",
    "# See: https://github.com/altair-viz/altair/issues/2199\n",
    "heart_rate_df\n"
   ]
  },
  {
   "cell_type": "code",
   "execution_count": null,
   "metadata": {},
   "outputs": [],
   "source": [
    "heart_rate_df = heart_rate_df[heart_rate_df.date.between(start_date, end_date)]\n",
    "heart_rate_df"
   ]
  },
  {
   "cell_type": "code",
   "execution_count": null,
   "metadata": {},
   "outputs": [],
   "source": [
    "heart_rate_df.head(3)"
   ]
  },
  {
   "cell_type": "markdown",
   "metadata": {},
   "source": [
    "### Sleep"
   ]
  },
  {
   "cell_type": "code",
   "execution_count": null,
   "metadata": {},
   "outputs": [],
   "source": [
    "sleep_df['date'] = pd.to_datetime (sleep_df['date'])\n",
    "sleep_df\n",
    "\n",
    "# wakeTime = number of waking-ups during sleep\n",
    "# start = start of sleep in Unix time"
   ]
  },
  {
   "cell_type": "code",
   "execution_count": null,
   "metadata": {},
   "outputs": [],
   "source": [
    "new_i = []\n",
    "new_j = []\n",
    "new_k = []\n",
    "\n",
    "for i, row in sleep_df.iterrows():\n",
    "    new_i.append(dt.fromtimestamp (row['lastSyncTime']))\n",
    "    new_j.append(dt.fromtimestamp (row['start']))\n",
    "    new_k.append(dt.fromtimestamp (row['stop']))\n",
    "\n",
    "sleep_df['lastSyncTime_new'] = pd.to_datetime(pd.Series(new_i))\n",
    "sleep_df['start_new'] = pd.to_datetime(pd.Series(new_j))\n",
    "sleep_df['stop_new'] = pd.to_datetime(pd.Series(new_k))\n"
   ]
  },
  {
   "cell_type": "code",
   "execution_count": null,
   "metadata": {},
   "outputs": [],
   "source": [
    "sleep_df"
   ]
  },
  {
   "cell_type": "code",
   "execution_count": null,
   "metadata": {},
   "outputs": [],
   "source": [
    "sleep_df = sleep_df[sleep_df.date.between(start_date, end_date)]\n",
    "sleep_df"
   ]
  },
  {
   "cell_type": "code",
   "execution_count": null,
   "metadata": {},
   "outputs": [],
   "source": [
    "sleep_df.head(3)"
   ]
  },
  {
   "cell_type": "markdown",
   "metadata": {},
   "source": [
    "### Sport"
   ]
  },
  {
   "cell_type": "code",
   "execution_count": null,
   "metadata": {},
   "outputs": [],
   "source": [
    "new_i = []\n",
    "new_j = []\n",
    "new_k = []\n",
    "\n",
    "for i, row in sport_df.iterrows():\n",
    "    new_i.append(dt.fromtimestamp (row['startTime']))\n",
    "    new_j.append(td (seconds = row['sportTime']))\n",
    "    new_k.append(dt.fromtimestamp (row['startTime'] + row['sportTime']))\n",
    "\n",
    "sport_df['startTime_new'] = pd.to_datetime(pd.Series(new_i))\n",
    "sport_df['sportTime_new'] = pd.Series(new_j)\n",
    "sport_df['endTime_new'] = pd.to_datetime(pd.Series(new_k))\n",
    "\n",
    "# type 16 = freestyle, 6 = running/walking"
   ]
  },
  {
   "cell_type": "code",
   "execution_count": null,
   "metadata": {},
   "outputs": [],
   "source": [
    "sport_df"
   ]
  },
  {
   "cell_type": "code",
   "execution_count": null,
   "metadata": {},
   "outputs": [],
   "source": [
    "sport_df = sport_df[sport_df.startTime_new.between(start_date, end_date)]\n",
    "sport_df"
   ]
  },
  {
   "cell_type": "code",
   "execution_count": null,
   "metadata": {},
   "outputs": [],
   "source": [
    "sport_df.head(3)"
   ]
  },
  {
   "cell_type": "markdown",
   "metadata": {},
   "source": [
    "### Activity"
   ]
  },
  {
   "cell_type": "code",
   "execution_count": null,
   "metadata": {},
   "outputs": [],
   "source": [
    "new_i = []\n",
    "\n",
    "for i, row in activity_df.iterrows():\n",
    "    new_i.append(dt.fromtimestamp (row['lastSyncTime']))\n",
    "\n",
    "activity_df['lastSyncTime_new'] = pd.to_datetime(pd.Series(new_i))\n",
    "activity_df['date'] = pd.to_datetime (activity_df['date'])"
   ]
  },
  {
   "cell_type": "code",
   "execution_count": null,
   "metadata": {},
   "outputs": [],
   "source": [
    "activity_df"
   ]
  },
  {
   "cell_type": "code",
   "execution_count": null,
   "metadata": {},
   "outputs": [],
   "source": [
    "activity_df = activity_df[activity_df.date.between(start_date, end_date)]\n",
    "activity_df"
   ]
  },
  {
   "cell_type": "code",
   "execution_count": null,
   "metadata": {},
   "outputs": [],
   "source": [
    "activity_df.head(3)"
   ]
  },
  {
   "cell_type": "markdown",
   "metadata": {},
   "source": [
    "### Activity minute"
   ]
  },
  {
   "cell_type": "code",
   "execution_count": null,
   "metadata": {},
   "outputs": [],
   "source": [
    "activity_minute_df"
   ]
  },
  {
   "cell_type": "code",
   "execution_count": null,
   "metadata": {},
   "outputs": [],
   "source": [
    "activity_minute_df['time'] = pd.to_datetime (activity_minute_df['date'] + ' ' + activity_minute_df['time'])\n",
    "# Same as for heart rate\n",
    "activity_minute_df['date'] = pd.to_datetime (activity_minute_df['date'])\n",
    "activity_minute_df"
   ]
  },
  {
   "cell_type": "code",
   "execution_count": null,
   "metadata": {},
   "outputs": [],
   "source": [
    "activity_minute_df = activity_minute_df[activity_minute_df.date.between(start_date, end_date)]\n",
    "activity_minute_df"
   ]
  },
  {
   "cell_type": "code",
   "execution_count": null,
   "metadata": {},
   "outputs": [],
   "source": [
    "activity_minute_df.head(3)"
   ]
  },
  {
   "cell_type": "markdown",
   "metadata": {},
   "source": [
    "# Step 3: Data visualization"
   ]
  },
  {
   "cell_type": "markdown",
   "metadata": {},
   "source": [
    "### Heart rate"
   ]
  },
  {
   "cell_type": "code",
   "execution_count": null,
   "metadata": {},
   "outputs": [],
   "source": [
    "heart_rate_first_day_df = heart_rate_df.loc[heart_rate_df['date'] == '2020-01-01']\n",
    "heart_rate_first_day_df"
   ]
  },
  {
   "cell_type": "code",
   "execution_count": null,
   "metadata": {},
   "outputs": [],
   "source": [
    "heart_rate_day_plt = alt.Chart(heart_rate_first_day_df).mark_line(color = 'firebrick').encode(\n",
    "    alt.X ('time:T', timeUnit='hoursminutes'),\n",
    "    alt.Y ('heartRate:Q')\n",
    ").properties (width = 700)\n",
    "\n",
    "heart_rate_day_plt"
   ]
  },
  {
   "cell_type": "markdown",
   "metadata": {},
   "source": [
    "### Sleep"
   ]
  },
  {
   "cell_type": "code",
   "execution_count": null,
   "metadata": {},
   "outputs": [],
   "source": []
  },
  {
   "cell_type": "code",
   "execution_count": null,
   "metadata": {},
   "outputs": [],
   "source": []
  },
  {
   "cell_type": "markdown",
   "metadata": {},
   "source": [
    "### Sport"
   ]
  },
  {
   "cell_type": "code",
   "execution_count": null,
   "metadata": {},
   "outputs": [],
   "source": []
  },
  {
   "cell_type": "code",
   "execution_count": null,
   "metadata": {},
   "outputs": [],
   "source": []
  },
  {
   "cell_type": "markdown",
   "metadata": {},
   "source": [
    "### Activity"
   ]
  },
  {
   "cell_type": "code",
   "execution_count": null,
   "metadata": {},
   "outputs": [],
   "source": []
  },
  {
   "cell_type": "code",
   "execution_count": null,
   "metadata": {},
   "outputs": [],
   "source": []
  },
  {
   "cell_type": "markdown",
   "metadata": {},
   "source": [
    "### Activity minute"
   ]
  },
  {
   "cell_type": "code",
   "execution_count": null,
   "metadata": {},
   "outputs": [],
   "source": []
  },
  {
   "cell_type": "code",
   "execution_count": null,
   "metadata": {},
   "outputs": [],
   "source": []
  },
  {
   "cell_type": "code",
   "execution_count": null,
   "metadata": {},
   "outputs": [],
   "source": []
  },
  {
   "cell_type": "markdown",
   "metadata": {},
   "source": [
    "## Step 3.1: Summary creation"
   ]
  },
  {
   "cell_type": "code",
   "execution_count": null,
   "metadata": {},
   "outputs": [],
   "source": []
  },
  {
   "cell_type": "code",
   "execution_count": null,
   "metadata": {},
   "outputs": [],
   "source": []
  }
 ],
 "metadata": {
  "kernelspec": {
   "display_name": "Python 3",
   "language": "python",
   "name": "python3"
  },
  "language_info": {
   "codemirror_mode": {
    "name": "ipython",
    "version": 3
   },
   "file_extension": ".py",
   "mimetype": "text/x-python",
   "name": "python",
   "nbconvert_exporter": "python",
   "pygments_lexer": "ipython3",
   "version": "3.8.5"
  }
 },
 "nbformat": 4,
 "nbformat_minor": 4
}
